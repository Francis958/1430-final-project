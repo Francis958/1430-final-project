{
 "cells": [
  {
   "cell_type": "code",
   "execution_count": null,
   "id": "ebfccadc",
   "metadata": {},
   "outputs": [],
   "source": [
    "import cv2\n",
    "import os\n",
    "import pandas as pd\n",
    "import numpy as np\n",
    "import matplotlib.pyplot as plt\n",
    "import seaborn as sns\n",
    "import plotly.express as px\n",
    "import matplotlib.image as mpimg\n",
    "from subprocess import PIPE, Popen\n",
    "import re\n",
    "\n",
    "import tensorflow as tf\n",
    "from tensorflow.keras.preprocessing.image import ImageDataGenerator"
   ]
  },
  {
   "cell_type": "code",
   "execution_count": null,
   "id": "3cd9191d",
   "metadata": {},
   "outputs": [],
   "source": [
    "def preprocessing_fcn(train_dir, test_dir, more_aug = False, color_mode = 'grayscale'):\n",
    "    ## Initiative preprocessing\n",
    "    preprocess_fn = tf.keras.applications.densenet.preprocess_input\n",
    "    if more_aug:\n",
    "        train_datagen = ImageDataGenerator(horizontal_flip=True,\n",
    "                                           width_shift_range=0.1,\n",
    "                                           height_shift_range=0.05, \n",
    "                                           validation_split=0.2,\n",
    "                                           rescale=1./255)\n",
    "\n",
    "        test_datagen = ImageDataGenerator(horizontal_flip=True,\n",
    "                                           width_shift_range=0.1,\n",
    "                                           height_shift_range=0.05, \n",
    "                                           rescale=1./255)\n",
    "    else:\n",
    "        train_datagen = ImageDataGenerator(validation_split=0.2)\n",
    "        test_datagen = ImageDataGenerator()\n",
    "\n",
    "\n",
    "    ## Getting training, validation, and testing data\n",
    "    train_gen = train_datagen.flow_from_directory(directory=train_dir,\n",
    "                                                  target_size=(IMG_HEIGHT, IMG_WIDTH),\n",
    "                                                  batch_size=BATCH_SIZE,\n",
    "                                                  shuffle=True,\n",
    "                                                  color_mode=color_mode,\n",
    "                                                  class_mode='categorical',\n",
    "                                                  subset='training', \n",
    "                                                  seed = SEED)\n",
    "\n",
    "    val_gen = train_datagen.flow_from_directory(directory=train_dir,\n",
    "                                                  target_size=(IMG_HEIGHT, IMG_WIDTH),\n",
    "                                                  batch_size=BATCH_SIZE,\n",
    "                                                  shuffle=True,\n",
    "                                                  color_mode=color_mode,\n",
    "                                                  class_mode='categorical',\n",
    "                                                  subset='validation', \n",
    "                                                  seed = SEED)\n",
    "\n",
    "    test_gen = test_datagen.flow_from_directory(directory=test_dir,\n",
    "                                                target_size=(IMG_HEIGHT, IMG_WIDTH),\n",
    "                                                batch_size=BATCH_SIZE,\n",
    "                                                shuffle=False,\n",
    "                                                color_mode=color_mode,\n",
    "                                                class_mode='categorical',\n",
    "                                                seed = SEED)\n",
    "    return train_datagen, test_datagen, train_gen, val_gen, test_gen"
   ]
  },
  {
   "cell_type": "code",
   "execution_count": null,
   "id": "4a421a34",
   "metadata": {},
   "outputs": [],
   "source": [
    "## Grayscale\n",
    "train_datagen, test_datagen, train_gen, val_gen, test_gen = preprocessing_fcn(train_dir, test_dir, True, 'grayscale')\n",
    "\n",
    "## rgb scale\n",
    "train_datagen_rgb, test_datagen_rgb, train_gen_rgb, val_gen_rgb, test_gen_rgb = preprocessing_fcn(train_dir, test_dir, True, 'rgb')"
   ]
  }
 ],
 "metadata": {
  "kernelspec": {
   "display_name": "Python 3 (ipykernel)",
   "language": "python",
   "name": "python3"
  },
  "language_info": {
   "codemirror_mode": {
    "name": "ipython",
    "version": 3
   },
   "file_extension": ".py",
   "mimetype": "text/x-python",
   "name": "python",
   "nbconvert_exporter": "python",
   "pygments_lexer": "ipython3",
   "version": "3.9.13"
  }
 },
 "nbformat": 4,
 "nbformat_minor": 5
}
