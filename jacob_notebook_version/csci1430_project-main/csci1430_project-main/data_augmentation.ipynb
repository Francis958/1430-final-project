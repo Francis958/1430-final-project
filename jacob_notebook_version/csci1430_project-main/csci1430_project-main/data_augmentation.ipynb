{
 "cells": [
  {
   "cell_type": "markdown",
   "id": "c05a529d",
   "metadata": {},
   "source": [
    "# Data Augmentation"
   ]
  },
  {
   "cell_type": "markdown",
   "id": "2b6f6c84",
   "metadata": {},
   "source": [
    "### Note: Run the following code only if you don't have the aug_fer2013 folder. cd to your project repo to make sure the code works.\n",
    "\n",
    "### The aug_fer2013 folder has already uploaded to my Github. You could use it as your original dataset."
   ]
  },
  {
   "cell_type": "code",
   "execution_count": null,
   "id": "7db1c438",
   "metadata": {},
   "outputs": [],
   "source": [
    "import cv2\n",
    "import os\n",
    "import pandas as pd\n",
    "import numpy as np\n",
    "import matplotlib.pyplot as plt\n",
    "import seaborn as sns\n",
    "import plotly.express as px\n",
    "import matplotlib.image as mpimg\n",
    "from subprocess import PIPE, Popen\n",
    "import re\n",
    "\n",
    "import tensorflow as tf\n",
    "from tensorflow.keras.preprocessing.image import ImageDataGenerator"
   ]
  },
  {
   "cell_type": "code",
   "execution_count": null,
   "id": "a78a8956",
   "metadata": {},
   "outputs": [],
   "source": [
    "train_dir = 'aug_fer2013/train'\n",
    "test_dir = 'aug_fer2013/test'\n",
    "\n",
    "SEED = 12\n",
    "IMG_HEIGHT = 48\n",
    "IMG_WIDTH = 48\n",
    "BATCH_SIZE = 64"
   ]
  },
  {
   "cell_type": "code",
   "execution_count": null,
   "id": "5c6f589c",
   "metadata": {},
   "outputs": [],
   "source": [
    "def cmdline(command):\n",
    "    process = Popen(\n",
    "        args=command,\n",
    "        stdout=PIPE,\n",
    "        shell=True\n",
    "    )\n",
    "    string_result = process.communicate()[0]\n",
    "    string_result = string_result.decode(\"utf-8\") \n",
    "    needed = re.findall(r'\\d+', string_result)\n",
    "    return int(needed[0])"
   ]
  },
  {
   "cell_type": "code",
   "execution_count": null,
   "id": "c2317dc5",
   "metadata": {},
   "outputs": [],
   "source": [
    "datagen_lst = [ImageDataGenerator(horizontal_flip=True,\n",
    "                              vertical_flip = False),\n",
    "           ImageDataGenerator(horizontal_flip = False,\n",
    "                              vertical_flip = True,\n",
    "                              zoom_range = 0.1),\n",
    "           ImageDataGenerator(horizontal_flip = True,\n",
    "                              vertical_flip = True,\n",
    "                              height_shift_range=0.1),\n",
    "           ImageDataGenerator(horizontal_flip = True,\n",
    "                              vertical_flip = True,\n",
    "                              height_shift_range=0.1,\n",
    "                              width_shift_range=0.2),\n",
    "           ImageDataGenerator(horizontal_flip = False,\n",
    "                              vertical_flip = True,\n",
    "                              zoom_range=0.1,\n",
    "                              height_shift_range=0.1)]"
   ]
  },
  {
   "cell_type": "code",
   "execution_count": null,
   "id": "8394ec82",
   "metadata": {},
   "outputs": [],
   "source": [
    "os.system('mkdir try')\n",
    "os.system('cp -r fer2013 try/')\n",
    "os.system('mv try/fer2013 try/aug_fer2013')\n",
    "train_dir = 'try/aug_fer2013/train'\n",
    "test_dir = 'try/aug_fer2013/test'"
   ]
  },
  {
   "cell_type": "code",
   "execution_count": null,
   "id": "f5f6d329",
   "metadata": {},
   "outputs": [],
   "source": [
    "labels = ['surprise','sad','neutral','happy','fear','disgust','angry']\n",
    "value_count_labels_trian = [3171, 4830, 4965, 7215, 4097, 436, 3995]\n",
    "value_count_labels_test = [831, 1247, 1233, 1774, 1024, 111, 958]\n",
    "\n",
    "for i in range(len(labels)):\n",
    "    this_label = labels[i]\n",
    "    this_value_count = value_count_labels_trian[i]\n",
    "    os.system('mkdir ' + train_dir + '/' + this_label + '_temp')\n",
    "    os.system('mv ' + train_dir + '/' + this_label + ' ' + train_dir + '/' + this_label + '_temp')\n",
    "    \n",
    "    dgl = 1\n",
    "    #num_emo_image = cmdline(\"ls \" + train_dir + '/' + this_label + '_temp')\n",
    "    while this_value_count < (7215 //2):\n",
    "        resized = datagen_lst[dgl].flow_from_directory(train_dir + '/' + this_label + '_temp',\n",
    "                                              target_size=(IMG_HEIGHT, IMG_WIDTH),\n",
    "                                                save_to_dir=train_dir + '/' + this_label + '_temp' + '/' + this_label,\n",
    "                                                color_mode=\"grayscale\", # Choose color mode\n",
    "                                                class_mode='categorical',\n",
    "                                                shuffle=True,\n",
    "                                                save_prefix=str(this_value_count) + '_augmented_',\n",
    "                                                save_format='jpg', # Formate\n",
    "                                                batch_size=1)\n",
    "        for j in range(len(resized)):\n",
    "            resized.next()\n",
    "        dgl += 1\n",
    "        #num_emo_image = cmdline(\"ls \" + train_dir + '/' + this_label + '_temp' + '/' + this_label)\n",
    "        this_value_count = this_value_count * 2\n",
    "    \n",
    "    resized = datagen_lst[0].flow_from_directory(train_dir + '/' + this_label + '_temp',\n",
    "                                              target_size=(IMG_HEIGHT, IMG_WIDTH),\n",
    "                                                save_to_dir=train_dir + '/' + this_label + '_temp' + '/' + this_label,\n",
    "                                                color_mode=\"grayscale\", # Choose color mode\n",
    "                                                class_mode='categorical',\n",
    "                                                shuffle=True,\n",
    "                                                save_prefix=str(this_value_count) + '_augmented_',\n",
    "                                                save_format='jpg', # Formate\n",
    "                                                batch_size=1)\n",
    "    for k in range(7215 - len(resized)):\n",
    "        resized.next()\n",
    "        \n",
    "    os.system('mv ' + train_dir + '/' + this_label + '_temp' + '/' + this_label + ' ' + train_dir)\n",
    "    os.system('rmdir ' + train_dir + '/' + this_label + '_temp')\n",
    "    \n",
    "        "
   ]
  }
 ],
 "metadata": {
  "kernelspec": {
   "display_name": "Python 3 (ipykernel)",
   "language": "python",
   "name": "python3"
  },
  "language_info": {
   "codemirror_mode": {
    "name": "ipython",
    "version": 3
   },
   "file_extension": ".py",
   "mimetype": "text/x-python",
   "name": "python",
   "nbconvert_exporter": "python",
   "pygments_lexer": "ipython3",
   "version": "3.9.13"
  }
 },
 "nbformat": 4,
 "nbformat_minor": 5
}
